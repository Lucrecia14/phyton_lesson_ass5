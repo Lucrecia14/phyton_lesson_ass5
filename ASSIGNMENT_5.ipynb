{
  "nbformat": 4,
  "nbformat_minor": 0,
  "metadata": {
    "colab": {
      "name": "ASSIGNMENT 5.ipynb",
      "provenance": [],
      "collapsed_sections": [],
      "authorship_tag": "ABX9TyMRC+vY4bgeTh9T67PgWwje",
      "include_colab_link": true
    },
    "kernelspec": {
      "name": "python3",
      "display_name": "Python 3"
    },
    "language_info": {
      "name": "python"
    }
  },
  "cells": [
    {
      "cell_type": "markdown",
      "metadata": {
        "id": "view-in-github",
        "colab_type": "text"
      },
      "source": [
        "<a href=\"https://colab.research.google.com/github/Lucrecia14/phyton_lesson_ass5/blob/main/ASSIGNMENT_5.ipynb\" target=\"_parent\"><img src=\"https://colab.research.google.com/assets/colab-badge.svg\" alt=\"Open In Colab\"/></a>"
      ]
    },
    {
      "cell_type": "markdown",
      "source": [
        "If a dependent child is a person under 18 years of age who does not earn $10,000 or more a year, which expression would define a dependent child?\n",
        "\n",
        "ANSWER: age < 18 and salary < 10000\n"
      ],
      "metadata": {
        "id": "9LjamlelOG8Z"
      }
    },
    {
      "cell_type": "code",
      "source": [
        "girls = 0\n",
        "boys = 0\n",
        "children = girls + boys\n",
        "print(children)\n",
        "girls = 15\n",
        "boys = 12\n",
        "print(girls)\n",
        "print(boys)\n",
        "print(children)\n",
        "\n",
        "# The value of boys is [0 and 12], value of girls is [0, 15] value of children is [0]"
      ],
      "metadata": {
        "colab": {
          "base_uri": "https://localhost:8080/"
        },
        "id": "vJYcOMS4Pc2x",
        "outputId": "fc5937e2-7e4d-45de-b10c-b203d163798b"
      },
      "execution_count": null,
      "outputs": [
        {
          "output_type": "stream",
          "name": "stdout",
          "text": [
            "0\n",
            "15\n",
            "12\n",
            "0\n"
          ]
        }
      ]
    },
    {
      "cell_type": "code",
      "source": [
        "x = 1\n",
        "y = 2\n",
        "z = 3\n",
        "if x < y:\n",
        "   if y > 4:\n",
        "      z = 5\n",
        "   else:\n",
        "      z = 6\n",
        "      print(z)\n",
        "\n",
        "  # The value of 'z' is 6"
      ],
      "metadata": {
        "colab": {
          "base_uri": "https://localhost:8080/"
        },
        "id": "oTLFzFAhSYFe",
        "outputId": "e59b48f0-98af-475b-e473-b1a6f7459f69"
      },
      "execution_count": null,
      "outputs": [
        {
          "output_type": "stream",
          "name": "stdout",
          "text": [
            "6\n"
          ]
        }
      ]
    },
    {
      "cell_type": "code",
      "source": [
        "\n",
        "a = int(input())\n",
        "b = int(input())\n",
        "c = int(input())\n",
        "if a > b:\n",
        "   if b > c:\n",
        "      answer = c\n",
        "   else:\n",
        "      answer = b\n",
        "elif a > c:\n",
        "   answer = c\n",
        "else:\n",
        "   answer = a\n",
        "   print(answer)\n",
        "\n",
        "   # The value of the result will be the integer stored in variable 'a'"
      ],
      "metadata": {
        "colab": {
          "base_uri": "https://localhost:8080/"
        },
        "id": "pgbhckP4Twz5",
        "outputId": "d521c688-c9cb-4f9f-c254-14822bc0351b"
      },
      "execution_count": null,
      "outputs": [
        {
          "output_type": "stream",
          "name": "stdout",
          "text": [
            "7\n",
            "8\n",
            "9\n",
            "7\n"
          ]
        }
      ]
    },
    {
      "cell_type": "code",
      "source": [
        "nums1 = [1, -5, 2, 0, 4, 2, -3]\n",
        "nums2 = [1, -5, 2, 4, 4, 2, 7]\n",
        "result = 0\n",
        "j = 0\n",
        "while j < len(nums1):\n",
        "   if nums1[j] != nums2[j]:\n",
        "      result = result + 1\n",
        "   j = j + 1\n",
        "  # No value was displayed as the conditions was not met."
      ],
      "metadata": {
        "id": "JK-bgFMwUEep"
      },
      "execution_count": null,
      "outputs": []
    },
    {
      "cell_type": "code",
      "source": [
        ""
      ],
      "metadata": {
        "id": "ZtY6vj3BQ4Dk"
      },
      "execution_count": null,
      "outputs": []
    },
    {
      "cell_type": "code",
      "source": [
        "number = [-1,-2,-3,-4,-5,-6,-7,-8,-9,-10,-11,-12,-13,-14,-15,-16]\n",
        "result = 0\n",
        "for j in range(0, len(number)):\n",
        "   if number[j] < 0:\n",
        "      result = result + 1\n",
        "      print(j)\n",
        "\n",
        "# The outcome: prints out the negative numbers within the range in positive numbers"
      ],
      "metadata": {
        "colab": {
          "base_uri": "https://localhost:8080/"
        },
        "id": "JeG8EG7vUE_-",
        "outputId": "b2bf6a28-bf17-485d-c1cd-3003472cc4d4"
      },
      "execution_count": null,
      "outputs": [
        {
          "output_type": "stream",
          "name": "stdout",
          "text": [
            "0\n",
            "1\n",
            "2\n",
            "3\n",
            "4\n",
            "5\n",
            "6\n",
            "7\n",
            "8\n",
            "9\n",
            "10\n",
            "11\n",
            "12\n",
            "13\n",
            "14\n",
            "15\n"
          ]
        }
      ]
    },
    {
      "cell_type": "code",
      "source": [
        "num = int(input())\n",
        "result = 0\n",
        "for count in range(1, num + 1):\n",
        "   result = result + count\n",
        "   print(count)\n",
        "  # Prints out the numbers between 1 and a specified integer."
      ],
      "metadata": {
        "colab": {
          "base_uri": "https://localhost:8080/"
        },
        "id": "3R3rGY7vf683",
        "outputId": "26f1225a-57a3-47e9-972e-22e081d973d6"
      },
      "execution_count": null,
      "outputs": [
        {
          "output_type": "stream",
          "name": "stdout",
          "text": [
            "50\n",
            "1\n",
            "2\n",
            "3\n",
            "4\n",
            "5\n",
            "6\n",
            "7\n",
            "8\n",
            "9\n",
            "10\n",
            "11\n",
            "12\n",
            "13\n",
            "14\n",
            "15\n",
            "16\n",
            "17\n",
            "18\n",
            "19\n",
            "20\n",
            "21\n",
            "22\n",
            "23\n",
            "24\n",
            "25\n",
            "26\n",
            "27\n",
            "28\n",
            "29\n",
            "30\n",
            "31\n",
            "32\n",
            "33\n",
            "34\n",
            "35\n",
            "36\n",
            "37\n",
            "38\n",
            "39\n",
            "40\n",
            "41\n",
            "42\n",
            "43\n",
            "44\n",
            "45\n",
            "46\n",
            "47\n",
            "48\n",
            "49\n",
            "50\n"
          ]
        }
      ]
    },
    {
      "cell_type": "markdown",
      "source": [
        ""
      ],
      "metadata": {
        "id": "307jQ4qfOEcW"
      }
    }
  ]
}